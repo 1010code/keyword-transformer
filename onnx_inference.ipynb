{
 "cells": [
  {
   "cell_type": "markdown",
   "metadata": {},
   "source": [
    "## 載入前處理"
   ]
  },
  {
   "cell_type": "code",
   "execution_count": 3,
   "metadata": {},
   "outputs": [],
   "source": [
    "import pandas as pd\n",
    "\n",
    "mean = pd.read_csv(\"./data/mean.txt\", sep=\" \", header=None).values.reshape(98, 32, 1)\n",
    "std = pd.read_csv(\"./data/std.txt\", sep=\" \", header=None).values.reshape(98, 32, 1)"
   ]
  },
  {
   "cell_type": "code",
   "execution_count": null,
   "metadata": {},
   "outputs": [],
   "source": []
  },
  {
   "cell_type": "code",
   "execution_count": 22,
   "metadata": {},
   "outputs": [],
   "source": [
    "import wave\n",
    "import numpy as np\n",
    "import matplotlib.pyplot as plt\n",
    "import tensorflow as tf\n",
    "\n",
    "from utils import mel_features\n",
    "\n",
    "def load_wave(path):\n",
    "    spf = wave.open(path, \"r\")\n",
    "    # Extract Raw Audio from Wav File\n",
    "    signal = spf.readframes(-1)\n",
    "    signal = np.fromstring(signal, \"int16\")\n",
    "    return signal\n",
    "\n",
    "def wave_normalize(signal):\n",
    "    # scale to -1~1\n",
    "    MIN=-32768\n",
    "    MAX=32767;\n",
    "    input_speech=[]\n",
    "    for i in range(len(signal)):\n",
    "        X_std = (signal[i] - MIN)*1. / (MAX - MIN)\n",
    "        X_std = X_std * (1 - -1) + -1\n",
    "        input_speech.append(X_std)\n",
    "    return input_speech\n",
    "\n",
    "def get_spectrogram(waveform):\n",
    "    # Padding for files with less than 16000 samples\n",
    "    zero_padding = tf.zeros([16000] - tf.shape(waveform), dtype=tf.float32)\n",
    "\n",
    "    # Concatenate audio with padding so that all audio clips will be of the \n",
    "    # same length\n",
    "    waveform = tf.cast(waveform, tf.float32)\n",
    "\n",
    "    equal_length = tf.concat([waveform, zero_padding], 0)\n",
    "    equal_length = equal_length.numpy().flatten()\n",
    "    spectrogram = 30 * (\n",
    "        mel_features.log_mel_spectrogram(\n",
    "        equal_length,\n",
    "            16000,\n",
    "            log_offset=0.001,\n",
    "            window_length_secs=0.025,\n",
    "            hop_length_secs=0.010,\n",
    "            num_mel_bins=32,\n",
    "            lower_edge_hertz=60,\n",
    "            upper_edge_hertz=3800) - np.log(1e-3))\n",
    "\n",
    "    return spectrogram\n",
    "\n",
    "def plot_wave(wave):\n",
    "    plt.plot(wave)\n",
    "    plt.show()\n",
    "    plt.imshow(get_spectrogram(wave).T, cmap=\"inferno\")\n",
    "    plt.show()"
   ]
  },
  {
   "cell_type": "code",
   "execution_count": 23,
   "metadata": {},
   "outputs": [
    {
     "name": "stdout",
     "output_type": "stream",
     "text": [
      "audio shape: (13375,)\n"
     ]
    },
    {
     "name": "stderr",
     "output_type": "stream",
     "text": [
      "/opt/conda/lib/python3.7/site-packages/ipykernel_launcher.py:12: DeprecationWarning: The binary mode of fromstring is deprecated, as it behaves surprisingly on unicode inputs. Use frombuffer instead\n",
      "  if sys.path[0] == '':\n"
     ]
    },
    {
     "data": {
      "image/png": "[encoded data removed]",
      "text/plain": [
       "<Figure size 432x288 with 1 Axes>"
      ]
     },
     "metadata": {
      "needs_background": "light"
     },
     "output_type": "display_data"
    },
    {
     "data": {
      "image/png": "[encoded data removed]",
      "text/plain": [
       "<Figure size 432x288 with 1 Axes>"
      ]
     },
     "metadata": {
      "needs_background": "light"
     },
     "output_type": "display_data"
    }
   ],
   "source": [
    "signal = load_wave(\"./data/9-1.wav\")\n",
    "print(f'audio shape: {signal.shape}')\n",
    "input_speech = wave_normalize(signal)\n",
    "plot_wave(input_speech)"
   ]
  },
  {
   "cell_type": "code",
   "execution_count": 26,
   "metadata": {},
   "outputs": [
    {
     "data": {
      "text/plain": [
       "'nine'"
      ]
     },
     "execution_count": 26,
     "metadata": {},
     "output_type": "execute_result"
    }
   ],
   "source": [
    "# Compute the prediction with ONNX Runtime\n",
    "import onnxruntime as rt\n",
    "\n",
    "sess = rt.InferenceSession(\"./data/tf_model.onnx\")\n",
    "input_name = sess.get_inputs()[0].name\n",
    "label_name = sess.get_outputs()[0].name\n",
    "label_list = ['zero', 'one', 'two', 'three', 'four', 'five', 'six', 'seven', 'eight', 'nine']\n",
    "\n",
    "data = get_spectrogram(input_speech)[..., np.newaxis]\n",
    "data -= -mean\n",
    "data /= std\n",
    "data = data.squeeze()\n",
    "\n",
    "# inference\n",
    "pred_onx = sess.run([label_name], {input_name: np.array([data]).astype(np.float32)})[0]\n",
    "label_list[pred_onx.argmax()]"
   ]
  },
  {
   "cell_type": "code",
   "execution_count": null,
   "metadata": {},
   "outputs": [],
   "source": []
  }
 ],
 "metadata": {
  "kernelspec": {
   "display_name": "Python 3",
   "language": "python",
   "name": "python3"
  },
  "language_info": {
   "codemirror_mode": {
    "name": "ipython",
    "version": 3
   },
   "file_extension": ".py",
   "mimetype": "text/x-python",
   "name": "python",
   "nbconvert_exporter": "python",
   "pygments_lexer": "ipython3",
   "version": "3.7.6"
  }
 },
 "nbformat": 4,
 "nbformat_minor": 4
}
