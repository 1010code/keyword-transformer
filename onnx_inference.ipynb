{
 "cells": [
  {
   "cell_type": "markdown",
   "metadata": {},
   "source": [
    "## 載入前處理"
   ]
  },
  {
   "cell_type": "code",
   "execution_count": 2,
   "metadata": {},
   "outputs": [
    {
     "name": "stdout",
     "output_type": "stream",
     "text": [
      "--2023-01-21 17:58:15--  https://github.com/1010code/keyword-transformer/raw/main/data/mean.txt\n",
      "Resolving github.com (github.com)... 20.27.177.113\n",
      "Connecting to github.com (github.com)|20.27.177.113|:443... connected.\n",
      "HTTP request sent, awaiting response... 302 Found\n",
      "Location: https://raw.githubusercontent.com/1010code/keyword-transformer/main/data/mean.txt [following]\n",
      "--2023-01-21 17:58:15--  https://raw.githubusercontent.com/1010code/keyword-transformer/main/data/mean.txt\n",
      "Resolving raw.githubusercontent.com (raw.githubusercontent.com)... 185.199.110.133, 185.199.108.133, 185.199.111.133, ...\n",
      "Connecting to raw.githubusercontent.com (raw.githubusercontent.com)|185.199.110.133|:443... connected.\n",
      "HTTP request sent, awaiting response... 416 Range Not Satisfiable\n",
      "\n",
      "    The file is already fully retrieved; nothing to do.\n",
      "\n",
      "--2023-01-21 17:58:16--  https://github.com/1010code/keyword-transformer/raw/main/data/std.txt\n",
      "Resolving github.com (github.com)... 20.27.177.113\n",
      "Connecting to github.com (github.com)|20.27.177.113|:443... connected.\n",
      "HTTP request sent, awaiting response... 302 Found\n",
      "Location: https://raw.githubusercontent.com/1010code/keyword-transformer/main/data/std.txt [following]\n",
      "--2023-01-21 17:58:16--  https://raw.githubusercontent.com/1010code/keyword-transformer/main/data/std.txt\n",
      "Resolving raw.githubusercontent.com (raw.githubusercontent.com)... 185.199.108.133, 185.199.109.133, 185.199.111.133, ...\n",
      "Connecting to raw.githubusercontent.com (raw.githubusercontent.com)|185.199.108.133|:443... connected.\n",
      "HTTP request sent, awaiting response... 416 Range Not Satisfiable\n",
      "\n",
      "    The file is already fully retrieved; nothing to do.\n",
      "\n",
      "--2023-01-21 17:58:17--  https://github.com/1010code/keyword-transformer/raw/main/utils/mel_features.py\n",
      "Resolving github.com (github.com)... 20.27.177.113\n",
      "Connecting to github.com (github.com)|20.27.177.113|:443... connected.\n",
      "HTTP request sent, awaiting response... 302 Found\n",
      "Location: https://raw.githubusercontent.com/1010code/keyword-transformer/main/utils/mel_features.py [following]\n",
      "--2023-01-21 17:58:17--  https://raw.githubusercontent.com/1010code/keyword-transformer/main/utils/mel_features.py\n",
      "Resolving raw.githubusercontent.com (raw.githubusercontent.com)... 185.199.108.133, 185.199.110.133, 185.199.109.133, ...\n",
      "Connecting to raw.githubusercontent.com (raw.githubusercontent.com)|185.199.108.133|:443... connected.\n",
      "HTTP request sent, awaiting response... 416 Range Not Satisfiable\n",
      "\n",
      "    The file is already fully retrieved; nothing to do.\n",
      "\n"
     ]
    }
   ],
   "source": [
    "!wget -c https://github.com/1010code/keyword-transformer/raw/main/data/mean.txt -P data\n",
    "!wget -c https://github.com/1010code/keyword-transformer/raw/main/data/std.txt -P data\n",
    "!wget -c https://github.com/1010code/keyword-transformer/raw/main/utils/mel_features.py -P utils"
   ]
  },
  {
   "cell_type": "code",
   "execution_count": 3,
   "metadata": {},
   "outputs": [],
   "source": [
    "import pandas as pd\n",
    "\n",
    "mean = pd.read_csv(\"./data/mean.txt\", sep=\" \", header=None).values.reshape(98, 32)\n",
    "std = pd.read_csv(\"./data/std.txt\", sep=\" \", header=None).values.reshape(98, 32)"
   ]
  },
  {
   "cell_type": "code",
   "execution_count": 2,
   "metadata": {},
   "outputs": [],
   "source": [
    "import wave\n",
    "import numpy as np\n",
    "import matplotlib.pyplot as plt\n",
    "import tensorflow as tf\n",
    "\n",
    "from utils import mel_features\n",
    "\n",
    "def load_wave(path):\n",
    "    spf = wave.open(path, \"r\")\n",
    "    # Extract Raw Audio from Wav File\n",
    "    signal = spf.readframes(-1)\n",
    "    signal = np.fromstring(signal, \"int16\")\n",
    "    return signal\n",
    "\n",
    "def wave_normalize(signal):\n",
    "    # scale to -1~1\n",
    "    MIN=-32768\n",
    "    MAX=32767;\n",
    "    input_speech=[]\n",
    "    for i in range(len(signal)):\n",
    "        X_std = (signal[i] - MIN)*1. / (MAX - MIN)\n",
    "        X_std = X_std * (1 - -1) + -1\n",
    "        input_speech.append(X_std)\n",
    "    return input_speech\n",
    "\n",
    "def get_spectrogram(waveform):\n",
    "    # Padding for files with less than 16000 samples\n",
    "    zero_padding = tf.zeros([16000] - tf.shape(waveform), dtype=tf.float32)\n",
    "\n",
    "    # Concatenate audio with padding so that all audio clips will be of the \n",
    "    # same length\n",
    "    waveform = tf.cast(waveform, tf.float32)\n",
    "\n",
    "    equal_length = tf.concat([waveform, zero_padding], 0)\n",
    "    equal_length = equal_length.numpy().flatten()\n",
    "    spectrogram = 30 * (\n",
    "        mel_features.log_mel_spectrogram(\n",
    "        equal_length,\n",
    "            16000,\n",
    "            log_offset=0.001,\n",
    "            window_length_secs=0.025,\n",
    "            hop_length_secs=0.010,\n",
    "            num_mel_bins=32,\n",
    "            lower_edge_hertz=60,\n",
    "            upper_edge_hertz=3800) - np.log(1e-3))\n",
    "\n",
    "    return spectrogram\n",
    "\n",
    "def plot_wave(wave):\n",
    "    plt.figure(figsize=(6,4))\n",
    "    plt.plot(wave)\n",
    "    plt.show()\n",
    "    plt.figure(figsize=(6,4))\n",
    "    plt.imshow(get_spectrogram(wave).T, cmap=\"inferno\")\n",
    "    plt.show()"
   ]
  },
  {
   "cell_type": "markdown",
   "metadata": {},
   "source": [
    "## 載入 ONNX 模型"
   ]
  },
  {
   "cell_type": "code",
   "execution_count": null,
   "metadata": {},
   "outputs": [],
   "source": [
    "!wget -c https://github.com/1010code/keyword-transformer/raw/main/data/tf_model.onnx -P data\n",
    "!wget -c https://github.com/1010code/keyword-transformer/raw/main/data/0-1.wav -P data"
   ]
  },
  {
   "cell_type": "code",
   "execution_count": null,
   "metadata": {},
   "outputs": [],
   "source": [
    "!pip install onnxruntime==1.12.1 -q"
   ]
  },
  {
   "cell_type": "code",
   "execution_count": 3,
   "metadata": {},
   "outputs": [],
   "source": [
    "# Compute the prediction with ONNX Runtime\n",
    "import onnxruntime as rt\n",
    "\n",
    "sess = rt.InferenceSession(\"./data/tf_model.onnx\")\n",
    "input_name = sess.get_inputs()[0].name\n",
    "label_name = sess.get_outputs()[0].name\n",
    "label_list = ['zero', 'one', 'two', 'three', 'four', 'five', 'six', 'seven', 'eight', 'nine']"
   ]
  },
  {
   "cell_type": "code",
   "execution_count": 13,
   "metadata": {},
   "outputs": [
    {
     "name": "stdout",
     "output_type": "stream",
     "text": [
      "audio shape: (14861,)\n"
     ]
    },
    {
     "name": "stderr",
     "output_type": "stream",
     "text": [
      "/opt/conda/lib/python3.7/site-packages/ipykernel_launcher.py:12: DeprecationWarning: The binary mode of fromstring is deprecated, as it behaves surprisingly on unicode inputs. Use frombuffer instead\n",
      "  if sys.path[0] == '':\n"
     ]
    },
    {
     "data": {
      "image/png": "[encoded data removed]",
      "text/plain": [
       "<Figure size 432x288 with 1 Axes>"
      ]
     },
     "metadata": {
      "needs_background": "light"
     },
     "output_type": "display_data"
    },
    {
     "data": {
      "image/png": "[encoded data removed]",
      "text/plain": [
       "<Figure size 432x288 with 1 Axes>"
      ]
     },
     "metadata": {
      "needs_background": "light"
     },
     "output_type": "display_data"
    },
    {
     "name": "stdout",
     "output_type": "stream",
     "text": [
      "Predict: zero\n"
     ]
    }
   ],
   "source": [
    "# 讀取資料\n",
    "signal = load_wave(\"./data/0-1.wav\")\n",
    "print(f'audio shape: {signal.shape}')\n",
    "# 正規化\n",
    "input_speech = wave_normalize(signal)\n",
    "# 繪製音訊\n",
    "plot_wave(input_speech)\n",
    "# 取得頻譜＆前處理\n",
    "data = get_spectrogram(input_speech)\n",
    "data -= -mean\n",
    "data /= std\n",
    "\n",
    "# inference\n",
    "pred_onx = sess.run([label_name], {input_name: np.array([data]).astype(np.float32)})[0]\n",
    "\n",
    "print(f'Predict: {label_list[pred_onx.argmax()]}')"
   ]
  },
  {
   "cell_type": "code",
   "execution_count": null,
   "metadata": {},
   "outputs": [],
   "source": []
  },
  {
   "cell_type": "code",
   "execution_count": null,
   "metadata": {},
   "outputs": [],
   "source": []
  },
  {
   "cell_type": "code",
   "execution_count": null,
   "metadata": {},
   "outputs": [],
   "source": []
  }
 ],
 "metadata": {
  "kernelspec": {
   "display_name": "Python 3",
   "language": "python",
   "name": "python3"
  },
  "language_info": {
   "codemirror_mode": {
    "name": "ipython",
    "version": 3
   },
   "file_extension": ".py",
   "mimetype": "text/x-python",
   "name": "python",
   "nbconvert_exporter": "python",
   "pygments_lexer": "ipython3",
   "version": "3.7.6"
  }
 },
 "nbformat": 4,
 "nbformat_minor": 4
}
