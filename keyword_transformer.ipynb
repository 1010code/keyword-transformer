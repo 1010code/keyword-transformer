{
 "cells": [
  {
   "cell_type": "code",
   "execution_count": 2,
   "metadata": {},
   "outputs": [],
   "source": [
    "import pathlib\n",
    "import shutil\n",
    "\n",
    "\n",
    "import matplotlib.pyplot as plt\n",
    "import numpy as np\n",
    "import seaborn as sns\n",
    "import tensorflow as tf\n",
    "\n",
    "from tensorflow.keras.layers.experimental import preprocessing\n",
    "from tensorflow.keras import layers\n",
    "from tensorflow.keras import models\n",
    "from IPython import display\n",
    "\n",
    "from utils import mel_features\n",
    "\n",
    "from tqdm.notebook import tqdm\n",
    "\n",
    "\n",
    "# Set seed for experiment reproducibility\n",
    "seed = 42\n",
    "tf.random.set_seed(seed)\n",
    "np.random.seed(seed)"
   ]
  },
  {
   "cell_type": "code",
   "execution_count": 3,
   "metadata": {},
   "outputs": [],
   "source": [
    "label_list = ['zero', 'one', 'two', 'three', 'four', 'five', 'six', 'seven', 'eight', 'nine']"
   ]
  },
  {
   "cell_type": "markdown",
   "metadata": {},
   "source": [
    "## 下載資料集\n",
    "TensorFlow Speech Command 數據集是一組一秒鐘的 .wav 音頻文件，每個文件包含一個口語英語單詞。這些詞來自一小組命令，由各種不同的說話者說出。其中 20 個詞是核心詞，10 個詞是輔助詞，可以作為算法測試忽略不包含觸發器的語音。與這 30 個單詞一起包含的是一組背景噪音音頻文件。該數據集最初是為有限詞彙量的語音識別任務而設計的。這些音頻片段最初由Google收集，並由世界各地不受控制的地點的志願者錄製。"
   ]
  },
  {
   "cell_type": "code",
   "execution_count": 5,
   "metadata": {},
   "outputs": [
    {
     "name": "stdout",
     "output_type": "stream",
     "text": [
      "--2023-01-20 15:05:59--  http://download.tensorflow.org/data/speech_commands_v0.02.tar.gz\n",
      "Resolving download.tensorflow.org (download.tensorflow.org)... 142.251.43.16, 2404:6800:4012:3::2010\n",
      "Connecting to download.tensorflow.org (download.tensorflow.org)|142.251.43.16|:80... connected.\n",
      "HTTP request sent, awaiting response... 200 OK\n",
      "Length: 2428923189 (2.3G) [application/gzip]\n",
      "Saving to: ‘dataset/speech_commands_v0.02.tar.gz’\n",
      "\n",
      "speech_commands_v0. 100%[===================>]   2.26G  25.7MB/s    in 62s     \n",
      "\n",
      "2023-01-20 15:07:02 (37.2 MB/s) - ‘dataset/speech_commands_v0.02.tar.gz’ saved [2428923189/2428923189]\n",
      "\n"
     ]
    }
   ],
   "source": [
    "# import os\n",
    "# # download dataset\n",
    "# os.mkdir('dataset')\n",
    "# ! wget http://download.tensorflow.org/data/speech_commands_v0.02.tar.gz -P dataset"
   ]
  },
  {
   "cell_type": "code",
   "execution_count": null,
   "metadata": {},
   "outputs": [],
   "source": []
  }
 ],
 "metadata": {
  "kernelspec": {
   "display_name": "Python 3",
   "language": "python",
   "name": "python3"
  },
  "language_info": {
   "codemirror_mode": {
    "name": "ipython",
    "version": 3
   },
   "file_extension": ".py",
   "mimetype": "text/x-python",
   "name": "python",
   "nbconvert_exporter": "python",
   "pygments_lexer": "ipython3",
   "version": "3.7.6"
  }
 },
 "nbformat": 4,
 "nbformat_minor": 4
}
